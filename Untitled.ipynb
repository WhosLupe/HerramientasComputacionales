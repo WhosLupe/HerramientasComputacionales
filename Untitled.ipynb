{
 "cells": [
  {
   "cell_type": "code",
   "execution_count": 1,
   "id": "203d6c4b",
   "metadata": {},
   "outputs": [],
   "source": [
    "import pandas as pd\n",
    "import matplotlib.pyplot as plt \n",
    "#from mpl_toolkits.basemap import Basemap"
   ]
  },
  {
   "cell_type": "code",
   "execution_count": 4,
   "id": "85cfcdba",
   "metadata": {},
   "outputs": [
    {
     "name": "stderr",
     "output_type": "stream",
     "text": [
      "C:\\Users\\jcossc\\AppData\\Local\\Temp\\ipykernel_34948\\2841982320.py:2: FutureWarning: The error_bad_lines argument has been deprecated and will be removed in a future version. Use on_bad_lines in the future.\n",
      "\n",
      "\n",
      "  df = pd.read_csv(url,sep=',',error_bad_lines=False)\n",
      "b'Skipping line 33: expected 1 fields, saw 7\\nSkipping line 111: expected 1 fields, saw 3\\nSkipping line 144: expected 1 fields, saw 2\\nSkipping line 223: expected 1 fields, saw 3\\nSkipping line 232: expected 1 fields, saw 6\\nSkipping line 264: expected 1 fields, saw 4\\nSkipping line 277: expected 1 fields, saw 4\\nSkipping line 290: expected 1 fields, saw 4\\nSkipping line 303: expected 1 fields, saw 4\\nSkipping line 316: expected 1 fields, saw 4\\nSkipping line 329: expected 1 fields, saw 4\\nSkipping line 342: expected 1 fields, saw 4\\nSkipping line 355: expected 1 fields, saw 4\\nSkipping line 373: expected 1 fields, saw 4\\nSkipping line 380: expected 1 fields, saw 4\\nSkipping line 389: expected 1 fields, saw 4\\nSkipping line 398: expected 1 fields, saw 4\\nSkipping line 424: expected 1 fields, saw 4\\nSkipping line 431: expected 1 fields, saw 4\\nSkipping line 438: expected 1 fields, saw 4\\nSkipping line 445: expected 1 fields, saw 4\\nSkipping line 459: expected 1 fields, saw 4\\nSkipping line 466: expected 1 fields, saw 4\\nSkipping line 475: expected 1 fields, saw 4\\nSkipping line 489: expected 1 fields, saw 4\\nSkipping line 498: expected 1 fields, saw 8\\nSkipping line 499: expected 1 fields, saw 3\\nSkipping line 507: expected 1 fields, saw 4\\nSkipping line 514: expected 1 fields, saw 4\\nSkipping line 539: expected 1 fields, saw 4\\nSkipping line 554: expected 1 fields, saw 4\\nSkipping line 570: expected 1 fields, saw 4\\nSkipping line 577: expected 1 fields, saw 4\\nSkipping line 584: expected 1 fields, saw 4\\nSkipping line 597: expected 1 fields, saw 3\\nSkipping line 617: expected 1 fields, saw 2\\nSkipping line 638: expected 1 fields, saw 5\\nSkipping line 816: expected 1 fields, saw 2\\nSkipping line 887: expected 1 fields, saw 2\\nSkipping line 910: expected 1 fields, saw 6\\nSkipping line 911: expected 1 fields, saw 3\\nSkipping line 918: expected 1 fields, saw 6\\nSkipping line 919: expected 1 fields, saw 3\\nSkipping line 1042: expected 1 fields, saw 6\\nSkipping line 1049: expected 1 fields, saw 6\\nSkipping line 1058: expected 1 fields, saw 6\\nSkipping line 1082: expected 1 fields, saw 4\\nSkipping line 1094: expected 1 fields, saw 4\\nSkipping line 1106: expected 1 fields, saw 4\\nSkipping line 1118: expected 1 fields, saw 4\\nSkipping line 1130: expected 1 fields, saw 4\\nSkipping line 1142: expected 1 fields, saw 4\\nSkipping line 1153: expected 1 fields, saw 4\\nSkipping line 1236: expected 1 fields, saw 10132\\nSkipping line 1263: expected 1 fields, saw 2\\nSkipping line 1271: expected 1 fields, saw 3\\nSkipping line 1272: expected 1 fields, saw 3\\nSkipping line 1273: expected 1 fields, saw 3\\nSkipping line 1274: expected 1 fields, saw 3\\nSkipping line 1275: expected 1 fields, saw 3\\nSkipping line 1276: expected 1 fields, saw 3\\nSkipping line 1277: expected 1 fields, saw 3\\nSkipping line 1278: expected 1 fields, saw 3\\nSkipping line 1279: expected 1 fields, saw 3\\nSkipping line 1280: expected 1 fields, saw 3\\nSkipping line 1281: expected 1 fields, saw 3\\n'\n"
     ]
    }
   ],
   "source": [
    "url='https://github.com/seismomat/HerramientasComputacionales/blob/main/Aplicaciones/ebola_outbreak_dataset-master/ebola_outbreak_dataset-master/ebola_2014_2016_clean.csv'\n",
    "df = pd.read_csv(url,sep=',')"
   ]
  },
  {
   "cell_type": "code",
   "execution_count": null,
   "id": "0449da26",
   "metadata": {},
   "outputs": [],
   "source": []
  }
 ],
 "metadata": {
  "kernelspec": {
   "display_name": "Python 3 (ipykernel)",
   "language": "python",
   "name": "python3"
  },
  "language_info": {
   "codemirror_mode": {
    "name": "ipython",
    "version": 3
   },
   "file_extension": ".py",
   "mimetype": "text/x-python",
   "name": "python",
   "nbconvert_exporter": "python",
   "pygments_lexer": "ipython3",
   "version": "3.9.12"
  }
 },
 "nbformat": 4,
 "nbformat_minor": 5
}
