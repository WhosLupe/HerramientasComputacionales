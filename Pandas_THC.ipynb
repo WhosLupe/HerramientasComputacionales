{
 "cells": [
  {
   "cell_type": "code",
   "execution_count": 1,
   "id": "40b90c43",
   "metadata": {},
   "outputs": [],
   "source": [
    "import pandas as pd\n",
    "import matplotlib.pyplot as plt \n",
    "#from mpl_toolkits.basemap import Basemap"
   ]
  },
  {
   "cell_type": "code",
   "execution_count": 2,
   "id": "5c237996",
   "metadata": {},
   "outputs": [],
   "source": [
    "link='https://github.com/seismomat/HerramientasComputacionales/blob/main/Aplicaciones/ebola_outbreak_dataset-master/ebola_outbreak_dataset-master/ebola_chida.csv'\n",
    "link='https://github.com/seismomat/HerramientasComputacionales/blob/main/Aplicaciones/ebola_outbreak_dataset-master/ebola_outbreak_dataset-master/ebola_2014_2016_clean.csv'\n",
    "code='?raw=true'\n",
    "url=link+code\n",
    "df = pd.read_csv(url,sep=',',index_col=1)"
   ]
  },
  {
   "cell_type": "code",
   "execution_count": 3,
   "id": "70e45822",
   "metadata": {},
   "outputs": [
    {
     "name": "stdout",
     "output_type": "stream",
     "text": [
      "<class 'pandas.core.frame.DataFrame'>\n",
      "Index: 2484 entries, 2014-08-29 to 2016-03-23\n",
      "Data columns (total 3 columns):\n",
      " #   Column                   Non-Null Count  Dtype  \n",
      "---  ------                   --------------  -----  \n",
      " 0   Country                  2484 non-null   object \n",
      " 1   No. of confirmed cases   2484 non-null   float64\n",
      " 2   No. of confirmed deaths  1648 non-null   float64\n",
      "dtypes: float64(2), object(1)\n",
      "memory usage: 77.6+ KB\n"
     ]
    }
   ],
   "source": [
    "df.info()"
   ]
  },
  {
   "cell_type": "code",
   "execution_count": 4,
   "id": "b0ab9322",
   "metadata": {},
   "outputs": [
    {
     "data": {
      "text/html": [
       "<div>\n",
       "<style scoped>\n",
       "    .dataframe tbody tr th:only-of-type {\n",
       "        vertical-align: middle;\n",
       "    }\n",
       "\n",
       "    .dataframe tbody tr th {\n",
       "        vertical-align: top;\n",
       "    }\n",
       "\n",
       "    .dataframe thead th {\n",
       "        text-align: right;\n",
       "    }\n",
       "</style>\n",
       "<table border=\"1\" class=\"dataframe\">\n",
       "  <thead>\n",
       "    <tr style=\"text-align: right;\">\n",
       "      <th></th>\n",
       "      <th>Country</th>\n",
       "      <th>No. of confirmed cases</th>\n",
       "      <th>No. of confirmed deaths</th>\n",
       "    </tr>\n",
       "    <tr>\n",
       "      <th>Date</th>\n",
       "      <th></th>\n",
       "      <th></th>\n",
       "      <th></th>\n",
       "    </tr>\n",
       "  </thead>\n",
       "  <tbody>\n",
       "    <tr>\n",
       "      <th>2014-08-29</th>\n",
       "      <td>Guinea</td>\n",
       "      <td>482.0</td>\n",
       "      <td>287.0</td>\n",
       "    </tr>\n",
       "    <tr>\n",
       "      <th>2014-08-29</th>\n",
       "      <td>Nigeria</td>\n",
       "      <td>15.0</td>\n",
       "      <td>6.0</td>\n",
       "    </tr>\n",
       "    <tr>\n",
       "      <th>2014-08-29</th>\n",
       "      <td>Sierra Leone</td>\n",
       "      <td>935.0</td>\n",
       "      <td>380.0</td>\n",
       "    </tr>\n",
       "    <tr>\n",
       "      <th>2014-08-29</th>\n",
       "      <td>Liberia</td>\n",
       "      <td>322.0</td>\n",
       "      <td>225.0</td>\n",
       "    </tr>\n",
       "    <tr>\n",
       "      <th>2014-09-05</th>\n",
       "      <td>Guinea</td>\n",
       "      <td>604.0</td>\n",
       "      <td>362.0</td>\n",
       "    </tr>\n",
       "  </tbody>\n",
       "</table>\n",
       "</div>"
      ],
      "text/plain": [
       "                 Country  No. of confirmed cases  No. of confirmed deaths\n",
       "Date                                                                     \n",
       "2014-08-29        Guinea                   482.0                    287.0\n",
       "2014-08-29       Nigeria                    15.0                      6.0\n",
       "2014-08-29  Sierra Leone                   935.0                    380.0\n",
       "2014-08-29       Liberia                   322.0                    225.0\n",
       "2014-09-05        Guinea                   604.0                    362.0"
      ]
     },
     "execution_count": 4,
     "metadata": {},
     "output_type": "execute_result"
    }
   ],
   "source": [
    "df.head()"
   ]
  },
  {
   "cell_type": "code",
   "execution_count": 5,
   "id": "d5bd1046",
   "metadata": {},
   "outputs": [
    {
     "data": {
      "text/html": [
       "<div>\n",
       "<style scoped>\n",
       "    .dataframe tbody tr th:only-of-type {\n",
       "        vertical-align: middle;\n",
       "    }\n",
       "\n",
       "    .dataframe tbody tr th {\n",
       "        vertical-align: top;\n",
       "    }\n",
       "\n",
       "    .dataframe thead th {\n",
       "        text-align: right;\n",
       "    }\n",
       "</style>\n",
       "<table border=\"1\" class=\"dataframe\">\n",
       "  <thead>\n",
       "    <tr style=\"text-align: right;\">\n",
       "      <th></th>\n",
       "      <th>Country</th>\n",
       "      <th>No. of confirmed cases</th>\n",
       "      <th>No. of confirmed deaths</th>\n",
       "    </tr>\n",
       "    <tr>\n",
       "      <th>Date</th>\n",
       "      <th></th>\n",
       "      <th></th>\n",
       "      <th></th>\n",
       "    </tr>\n",
       "  </thead>\n",
       "  <tbody>\n",
       "    <tr>\n",
       "      <th>2016-03-23</th>\n",
       "      <td>Liberia</td>\n",
       "      <td>3151.0</td>\n",
       "      <td>NaN</td>\n",
       "    </tr>\n",
       "    <tr>\n",
       "      <th>2016-03-23</th>\n",
       "      <td>Italy</td>\n",
       "      <td>1.0</td>\n",
       "      <td>NaN</td>\n",
       "    </tr>\n",
       "    <tr>\n",
       "      <th>2016-03-23</th>\n",
       "      <td>Liberia</td>\n",
       "      <td>2.0</td>\n",
       "      <td>1.0</td>\n",
       "    </tr>\n",
       "    <tr>\n",
       "      <th>2016-03-23</th>\n",
       "      <td>Nigeria</td>\n",
       "      <td>19.0</td>\n",
       "      <td>7.0</td>\n",
       "    </tr>\n",
       "    <tr>\n",
       "      <th>2016-03-23</th>\n",
       "      <td>United States of America</td>\n",
       "      <td>4.0</td>\n",
       "      <td>1.0</td>\n",
       "    </tr>\n",
       "  </tbody>\n",
       "</table>\n",
       "</div>"
      ],
      "text/plain": [
       "                             Country  No. of confirmed cases  \\\n",
       "Date                                                           \n",
       "2016-03-23                   Liberia                  3151.0   \n",
       "2016-03-23                     Italy                     1.0   \n",
       "2016-03-23                   Liberia                     2.0   \n",
       "2016-03-23                   Nigeria                    19.0   \n",
       "2016-03-23  United States of America                     4.0   \n",
       "\n",
       "            No. of confirmed deaths  \n",
       "Date                                 \n",
       "2016-03-23                      NaN  \n",
       "2016-03-23                      NaN  \n",
       "2016-03-23                      1.0  \n",
       "2016-03-23                      7.0  \n",
       "2016-03-23                      1.0  "
      ]
     },
     "execution_count": 5,
     "metadata": {},
     "output_type": "execute_result"
    }
   ],
   "source": [
    "df.tail()"
   ]
  },
  {
   "cell_type": "code",
   "execution_count": 6,
   "id": "a964e9eb",
   "metadata": {},
   "outputs": [
    {
     "data": {
      "text/html": [
       "<div>\n",
       "<style scoped>\n",
       "    .dataframe tbody tr th:only-of-type {\n",
       "        vertical-align: middle;\n",
       "    }\n",
       "\n",
       "    .dataframe tbody tr th {\n",
       "        vertical-align: top;\n",
       "    }\n",
       "\n",
       "    .dataframe thead th {\n",
       "        text-align: right;\n",
       "    }\n",
       "</style>\n",
       "<table border=\"1\" class=\"dataframe\">\n",
       "  <thead>\n",
       "    <tr style=\"text-align: right;\">\n",
       "      <th></th>\n",
       "      <th>Country</th>\n",
       "      <th>No. of confirmed cases</th>\n",
       "      <th>No. of confirmed deaths</th>\n",
       "    </tr>\n",
       "    <tr>\n",
       "      <th>Date</th>\n",
       "      <th></th>\n",
       "      <th></th>\n",
       "      <th></th>\n",
       "    </tr>\n",
       "  </thead>\n",
       "  <tbody>\n",
       "    <tr>\n",
       "      <th>2014-08-29</th>\n",
       "      <td>False</td>\n",
       "      <td>False</td>\n",
       "      <td>False</td>\n",
       "    </tr>\n",
       "    <tr>\n",
       "      <th>2014-08-29</th>\n",
       "      <td>False</td>\n",
       "      <td>False</td>\n",
       "      <td>False</td>\n",
       "    </tr>\n",
       "    <tr>\n",
       "      <th>2014-08-29</th>\n",
       "      <td>False</td>\n",
       "      <td>False</td>\n",
       "      <td>False</td>\n",
       "    </tr>\n",
       "    <tr>\n",
       "      <th>2014-08-29</th>\n",
       "      <td>False</td>\n",
       "      <td>False</td>\n",
       "      <td>False</td>\n",
       "    </tr>\n",
       "    <tr>\n",
       "      <th>2014-09-05</th>\n",
       "      <td>False</td>\n",
       "      <td>False</td>\n",
       "      <td>False</td>\n",
       "    </tr>\n",
       "    <tr>\n",
       "      <th>...</th>\n",
       "      <td>...</td>\n",
       "      <td>...</td>\n",
       "      <td>...</td>\n",
       "    </tr>\n",
       "    <tr>\n",
       "      <th>2016-03-23</th>\n",
       "      <td>False</td>\n",
       "      <td>False</td>\n",
       "      <td>True</td>\n",
       "    </tr>\n",
       "    <tr>\n",
       "      <th>2016-03-23</th>\n",
       "      <td>False</td>\n",
       "      <td>False</td>\n",
       "      <td>True</td>\n",
       "    </tr>\n",
       "    <tr>\n",
       "      <th>2016-03-23</th>\n",
       "      <td>False</td>\n",
       "      <td>False</td>\n",
       "      <td>False</td>\n",
       "    </tr>\n",
       "    <tr>\n",
       "      <th>2016-03-23</th>\n",
       "      <td>False</td>\n",
       "      <td>False</td>\n",
       "      <td>False</td>\n",
       "    </tr>\n",
       "    <tr>\n",
       "      <th>2016-03-23</th>\n",
       "      <td>False</td>\n",
       "      <td>False</td>\n",
       "      <td>False</td>\n",
       "    </tr>\n",
       "  </tbody>\n",
       "</table>\n",
       "<p>2484 rows × 3 columns</p>\n",
       "</div>"
      ],
      "text/plain": [
       "            Country  No. of confirmed cases  No. of confirmed deaths\n",
       "Date                                                                \n",
       "2014-08-29    False                   False                    False\n",
       "2014-08-29    False                   False                    False\n",
       "2014-08-29    False                   False                    False\n",
       "2014-08-29    False                   False                    False\n",
       "2014-09-05    False                   False                    False\n",
       "...             ...                     ...                      ...\n",
       "2016-03-23    False                   False                     True\n",
       "2016-03-23    False                   False                     True\n",
       "2016-03-23    False                   False                    False\n",
       "2016-03-23    False                   False                    False\n",
       "2016-03-23    False                   False                    False\n",
       "\n",
       "[2484 rows x 3 columns]"
      ]
     },
     "execution_count": 6,
     "metadata": {},
     "output_type": "execute_result"
    }
   ],
   "source": [
    "df.isnull()"
   ]
  },
  {
   "cell_type": "code",
   "execution_count": 7,
   "id": "dd177b70",
   "metadata": {},
   "outputs": [
    {
     "data": {
      "text/plain": [
       "Country                      0\n",
       "No. of confirmed cases       0\n",
       "No. of confirmed deaths    836\n",
       "dtype: int64"
      ]
     },
     "execution_count": 7,
     "metadata": {},
     "output_type": "execute_result"
    }
   ],
   "source": [
    "df.isnull().sum()"
   ]
  },
  {
   "cell_type": "code",
   "execution_count": 8,
   "id": "669313ba-ce11-416d-ab5b-8124b060cfab",
   "metadata": {},
   "outputs": [
    {
     "data": {
      "text/plain": [
       "0"
      ]
     },
     "execution_count": 8,
     "metadata": {},
     "output_type": "execute_result"
    }
   ],
   "source": [
    "df['Country'].isin(['Mexico']).sum()"
   ]
  },
  {
   "cell_type": "code",
   "execution_count": 29,
   "id": "b01b66bc",
   "metadata": {},
   "outputs": [
    {
     "data": {
      "text/html": [
       "<div>\n",
       "<style scoped>\n",
       "    .dataframe tbody tr th:only-of-type {\n",
       "        vertical-align: middle;\n",
       "    }\n",
       "\n",
       "    .dataframe tbody tr th {\n",
       "        vertical-align: top;\n",
       "    }\n",
       "\n",
       "    .dataframe thead th {\n",
       "        text-align: right;\n",
       "    }\n",
       "</style>\n",
       "<table border=\"1\" class=\"dataframe\">\n",
       "  <thead>\n",
       "    <tr style=\"text-align: right;\">\n",
       "      <th></th>\n",
       "      <th>Country</th>\n",
       "      <th>Conteo</th>\n",
       "    </tr>\n",
       "  </thead>\n",
       "  <tbody>\n",
       "    <tr>\n",
       "      <th>0</th>\n",
       "      <td>Guinea</td>\n",
       "      <td>259</td>\n",
       "    </tr>\n",
       "    <tr>\n",
       "      <th>1</th>\n",
       "      <td>Italy</td>\n",
       "      <td>141</td>\n",
       "    </tr>\n",
       "    <tr>\n",
       "      <th>2</th>\n",
       "      <td>Liberia</td>\n",
       "      <td>364</td>\n",
       "    </tr>\n",
       "    <tr>\n",
       "      <th>3</th>\n",
       "      <td>Mali</td>\n",
       "      <td>243</td>\n",
       "    </tr>\n",
       "    <tr>\n",
       "      <th>4</th>\n",
       "      <td>Nigeria</td>\n",
       "      <td>255</td>\n",
       "    </tr>\n",
       "    <tr>\n",
       "      <th>5</th>\n",
       "      <td>Senegal</td>\n",
       "      <td>254</td>\n",
       "    </tr>\n",
       "    <tr>\n",
       "      <th>6</th>\n",
       "      <td>Sierra Leone</td>\n",
       "      <td>259</td>\n",
       "    </tr>\n",
       "    <tr>\n",
       "      <th>7</th>\n",
       "      <td>Spain</td>\n",
       "      <td>243</td>\n",
       "    </tr>\n",
       "    <tr>\n",
       "      <th>8</th>\n",
       "      <td>United Kingdom</td>\n",
       "      <td>221</td>\n",
       "    </tr>\n",
       "    <tr>\n",
       "      <th>9</th>\n",
       "      <td>United States of America</td>\n",
       "      <td>245</td>\n",
       "    </tr>\n",
       "  </tbody>\n",
       "</table>\n",
       "</div>"
      ],
      "text/plain": [
       "                    Country  Conteo\n",
       "0                    Guinea     259\n",
       "1                     Italy     141\n",
       "2                   Liberia     364\n",
       "3                      Mali     243\n",
       "4                   Nigeria     255\n",
       "5                   Senegal     254\n",
       "6              Sierra Leone     259\n",
       "7                     Spain     243\n",
       "8            United Kingdom     221\n",
       "9  United States of America     245"
      ]
     },
     "execution_count": 29,
     "metadata": {},
     "output_type": "execute_result"
    }
   ],
   "source": [
    "conteo=df.groupby('Country').size().reset_index(name='Conteo')\n",
    "conteo"
   ]
  },
  {
   "cell_type": "code",
   "execution_count": 35,
   "id": "9712727a",
   "metadata": {},
   "outputs": [
    {
     "data": {
      "image/png": "[encoded data removed]",
      "text/plain": [
       "<Figure size 432x288 with 1 Axes>"
      ]
     },
     "metadata": {},
     "output_type": "display_data"
    }
   ],
   "source": [
    "plt.pie(conteo['Conteo'],labels=conteo['Country'],autopct=\"%0.1f %%\")\n",
    "plt.axis(\"equal\")\n",
    "plt.show()"
   ]
  },
  {
   "cell_type": "code",
   "execution_count": 9,
   "id": "f3d3d315-4c70-4822-bdf3-c9abecf2d09e",
   "metadata": {},
   "outputs": [],
   "source": [
    "SL=df[df['Country']=='Sierra Leone']"
   ]
  },
  {
   "cell_type": "code",
   "execution_count": 10,
   "id": "7648e527-0c53-44a7-9b87-7a32885b220c",
   "metadata": {},
   "outputs": [
    {
     "data": {
      "text/html": [
       "<div>\n",
       "<style scoped>\n",
       "    .dataframe tbody tr th:only-of-type {\n",
       "        vertical-align: middle;\n",
       "    }\n",
       "\n",
       "    .dataframe tbody tr th {\n",
       "        vertical-align: top;\n",
       "    }\n",
       "\n",
       "    .dataframe thead th {\n",
       "        text-align: right;\n",
       "    }\n",
       "</style>\n",
       "<table border=\"1\" class=\"dataframe\">\n",
       "  <thead>\n",
       "    <tr style=\"text-align: right;\">\n",
       "      <th></th>\n",
       "      <th>Country</th>\n",
       "      <th>No. of confirmed cases</th>\n",
       "      <th>No. of confirmed deaths</th>\n",
       "    </tr>\n",
       "    <tr>\n",
       "      <th>Date</th>\n",
       "      <th></th>\n",
       "      <th></th>\n",
       "      <th></th>\n",
       "    </tr>\n",
       "  </thead>\n",
       "  <tbody>\n",
       "    <tr>\n",
       "      <th>2014-08-29</th>\n",
       "      <td>Sierra Leone</td>\n",
       "      <td>935.0</td>\n",
       "      <td>380.0</td>\n",
       "    </tr>\n",
       "    <tr>\n",
       "      <th>2014-09-05</th>\n",
       "      <td>Sierra Leone</td>\n",
       "      <td>1146.0</td>\n",
       "      <td>443.0</td>\n",
       "    </tr>\n",
       "    <tr>\n",
       "      <th>2014-09-08</th>\n",
       "      <td>Sierra Leone</td>\n",
       "      <td>1234.0</td>\n",
       "      <td>461.0</td>\n",
       "    </tr>\n",
       "    <tr>\n",
       "      <th>2014-09-12</th>\n",
       "      <td>Sierra Leone</td>\n",
       "      <td>1287.0</td>\n",
       "      <td>478.0</td>\n",
       "    </tr>\n",
       "    <tr>\n",
       "      <th>2014-09-16</th>\n",
       "      <td>Sierra Leone</td>\n",
       "      <td>1464.0</td>\n",
       "      <td>514.0</td>\n",
       "    </tr>\n",
       "  </tbody>\n",
       "</table>\n",
       "</div>"
      ],
      "text/plain": [
       "                 Country  No. of confirmed cases  No. of confirmed deaths\n",
       "Date                                                                     \n",
       "2014-08-29  Sierra Leone                   935.0                    380.0\n",
       "2014-09-05  Sierra Leone                  1146.0                    443.0\n",
       "2014-09-08  Sierra Leone                  1234.0                    461.0\n",
       "2014-09-12  Sierra Leone                  1287.0                    478.0\n",
       "2014-09-16  Sierra Leone                  1464.0                    514.0"
      ]
     },
     "execution_count": 10,
     "metadata": {},
     "output_type": "execute_result"
    }
   ],
   "source": [
    "SL.head()"
   ]
  },
  {
   "cell_type": "code",
   "execution_count": 11,
   "id": "fd4664c8-91f2-4a29-b956-82dbe6c106de",
   "metadata": {},
   "outputs": [],
   "source": [
    "SL = SL.drop('Country', axis=1)"
   ]
  },
  {
   "cell_type": "code",
   "execution_count": 12,
   "id": "1567a321-e848-4d0d-9032-21f8f7f13b52",
   "metadata": {},
   "outputs": [
    {
     "data": {
      "text/html": [
       "<div>\n",
       "<style scoped>\n",
       "    .dataframe tbody tr th:only-of-type {\n",
       "        vertical-align: middle;\n",
       "    }\n",
       "\n",
       "    .dataframe tbody tr th {\n",
       "        vertical-align: top;\n",
       "    }\n",
       "\n",
       "    .dataframe thead th {\n",
       "        text-align: right;\n",
       "    }\n",
       "</style>\n",
       "<table border=\"1\" class=\"dataframe\">\n",
       "  <thead>\n",
       "    <tr style=\"text-align: right;\">\n",
       "      <th></th>\n",
       "      <th>No. of confirmed cases</th>\n",
       "      <th>No. of confirmed deaths</th>\n",
       "    </tr>\n",
       "    <tr>\n",
       "      <th>Date</th>\n",
       "      <th></th>\n",
       "      <th></th>\n",
       "    </tr>\n",
       "  </thead>\n",
       "  <tbody>\n",
       "    <tr>\n",
       "      <th>2014-10-22</th>\n",
       "      <td>3223.0</td>\n",
       "      <td>986.0</td>\n",
       "    </tr>\n",
       "    <tr>\n",
       "      <th>2014-10-25</th>\n",
       "      <td>3389.0</td>\n",
       "      <td>1008.0</td>\n",
       "    </tr>\n",
       "    <tr>\n",
       "      <th>2014-10-29</th>\n",
       "      <td>3700.0</td>\n",
       "      <td>NaN</td>\n",
       "    </tr>\n",
       "    <tr>\n",
       "      <th>2014-10-31</th>\n",
       "      <td>3778.0</td>\n",
       "      <td>NaN</td>\n",
       "    </tr>\n",
       "    <tr>\n",
       "      <th>2014-11-05</th>\n",
       "      <td>4057.0</td>\n",
       "      <td>893.0</td>\n",
       "    </tr>\n",
       "  </tbody>\n",
       "</table>\n",
       "</div>"
      ],
      "text/plain": [
       "            No. of confirmed cases  No. of confirmed deaths\n",
       "Date                                                       \n",
       "2014-10-22                  3223.0                    986.0\n",
       "2014-10-25                  3389.0                   1008.0\n",
       "2014-10-29                  3700.0                      NaN\n",
       "2014-10-31                  3778.0                      NaN\n",
       "2014-11-05                  4057.0                    893.0"
      ]
     },
     "execution_count": 12,
     "metadata": {},
     "output_type": "execute_result"
    }
   ],
   "source": [
    "SL[15:20]"
   ]
  },
  {
   "cell_type": "code",
   "execution_count": 13,
   "id": "1f2597d0-1b3b-4e78-a90c-738598be0248",
   "metadata": {},
   "outputs": [
    {
     "data": {
      "text/plain": [
       "(259, 2)"
      ]
     },
     "execution_count": 13,
     "metadata": {},
     "output_type": "execute_result"
    }
   ],
   "source": [
    "SL.shape"
   ]
  },
  {
   "cell_type": "code",
   "execution_count": 14,
   "id": "e9b47a9c-1b7a-46a2-939c-a948868a6de3",
   "metadata": {},
   "outputs": [
    {
     "data": {
      "text/plain": [
       "No. of confirmed cases     0\n",
       "No. of confirmed deaths    2\n",
       "dtype: int64"
      ]
     },
     "execution_count": 14,
     "metadata": {},
     "output_type": "execute_result"
    }
   ],
   "source": [
    "SL.isnull().sum()"
   ]
  },
  {
   "cell_type": "code",
   "execution_count": 15,
   "id": "f87b0494-1862-4150-b1d9-a01e3554b9fd",
   "metadata": {},
   "outputs": [],
   "source": [
    "SL.fillna(0.0,inplace=True)"
   ]
  },
  {
   "cell_type": "code",
   "execution_count": 16,
   "id": "6187b0e2-0eb4-4c9a-bab3-cf3880ee28ea",
   "metadata": {},
   "outputs": [
    {
     "data": {
      "text/plain": [
       "No. of confirmed cases     0\n",
       "No. of confirmed deaths    0\n",
       "dtype: int64"
      ]
     },
     "execution_count": 16,
     "metadata": {},
     "output_type": "execute_result"
    }
   ],
   "source": [
    "SL.isnull().sum()"
   ]
  },
  {
   "cell_type": "code",
   "execution_count": 17,
   "id": "f87d5663-ab13-4f87-91da-4ca9d232a702",
   "metadata": {},
   "outputs": [],
   "source": [
    "#SL.describe()"
   ]
  },
  {
   "cell_type": "code",
   "execution_count": 18,
   "id": "44c9b9e0-e2a6-4a06-a930-39871fa35c0f",
   "metadata": {},
   "outputs": [],
   "source": [
    "NCC=SL['No. of confirmed cases'][0:-1:10]\n",
    "NCD=SL['No. of confirmed deaths'][0:-1:10]\n",
    "Dates=SL.index[0:-1:10]"
   ]
  },
  {
   "cell_type": "code",
   "execution_count": 19,
   "id": "2f60754d-bce2-4b7e-bb7e-cdc837e22879",
   "metadata": {},
   "outputs": [
    {
     "data": {
      "image/png": "[encoded data removed]",
      "text/plain": [
       "<Figure size 432x288 with 1 Axes>"
      ]
     },
     "metadata": {
      "needs_background": "light"
     },
     "output_type": "display_data"
    }
   ],
   "source": [
    "plt.plot(Dates,NCC,'o:r',ms=4,label='Enfermos')\n",
    "plt.plot(Dates,NCD,'o-k',ms=4,label='Decesos')\n",
    "plt.grid()\n",
    "plt.title('Avance del Ebola en Sierra Leona')\n",
    "plt.ylabel('Casos confirmados')\n",
    "plt.legend()\n",
    "plt.xticks(rotation=90,fontsize=8)  # Rotar las fechas en el eje x\n",
    "plt.savefig('SierraLeona.png', dpi=300, format='png')\n",
    "plt.show()"
   ]
  },
  {
   "cell_type": "code",
   "execution_count": 20,
   "id": "4d6525e6-a32b-4202-98d9-f25a485dc5ec",
   "metadata": {},
   "outputs": [],
   "source": [
    "PIvsD=100*SL['No. of confirmed deaths']/SL['No. of confirmed cases'] \n",
    "# porcentaje de Infectados contra recuperados\n",
    "SL['PIvsD']=PIvsD"
   ]
  },
  {
   "cell_type": "code",
   "execution_count": 21,
   "id": "55b0534d",
   "metadata": {},
   "outputs": [],
   "source": [
    "recuperados=((100-PIvsD)/100)*SL['No. of confirmed cases']\n",
    "SL['recuperados']=recuperados"
   ]
  },
  {
   "cell_type": "code",
   "execution_count": 36,
   "id": "aebcf4cc",
   "metadata": {},
   "outputs": [],
   "source": [
    "SL['PR']=(100-PIvsD)"
   ]
  },
  {
   "cell_type": "code",
   "execution_count": 37,
   "id": "84a4d9e2",
   "metadata": {},
   "outputs": [
    {
     "data": {
      "text/html": [
       "<div>\n",
       "<style scoped>\n",
       "    .dataframe tbody tr th:only-of-type {\n",
       "        vertical-align: middle;\n",
       "    }\n",
       "\n",
       "    .dataframe tbody tr th {\n",
       "        vertical-align: top;\n",
       "    }\n",
       "\n",
       "    .dataframe thead th {\n",
       "        text-align: right;\n",
       "    }\n",
       "</style>\n",
       "<table border=\"1\" class=\"dataframe\">\n",
       "  <thead>\n",
       "    <tr style=\"text-align: right;\">\n",
       "      <th></th>\n",
       "      <th>No. of confirmed cases</th>\n",
       "      <th>No. of confirmed deaths</th>\n",
       "      <th>PIvsD</th>\n",
       "      <th>recuperados</th>\n",
       "      <th>PR</th>\n",
       "    </tr>\n",
       "    <tr>\n",
       "      <th>Date</th>\n",
       "      <th></th>\n",
       "      <th></th>\n",
       "      <th></th>\n",
       "      <th></th>\n",
       "      <th></th>\n",
       "    </tr>\n",
       "  </thead>\n",
       "  <tbody>\n",
       "    <tr>\n",
       "      <th>2014-08-29</th>\n",
       "      <td>935.0</td>\n",
       "      <td>380.0</td>\n",
       "      <td>40.641711</td>\n",
       "      <td>555.0</td>\n",
       "      <td>59.358289</td>\n",
       "    </tr>\n",
       "    <tr>\n",
       "      <th>2014-09-05</th>\n",
       "      <td>1146.0</td>\n",
       "      <td>443.0</td>\n",
       "      <td>38.656195</td>\n",
       "      <td>703.0</td>\n",
       "      <td>61.343805</td>\n",
       "    </tr>\n",
       "    <tr>\n",
       "      <th>2014-09-08</th>\n",
       "      <td>1234.0</td>\n",
       "      <td>461.0</td>\n",
       "      <td>37.358185</td>\n",
       "      <td>773.0</td>\n",
       "      <td>62.641815</td>\n",
       "    </tr>\n",
       "    <tr>\n",
       "      <th>2014-09-12</th>\n",
       "      <td>1287.0</td>\n",
       "      <td>478.0</td>\n",
       "      <td>37.140637</td>\n",
       "      <td>809.0</td>\n",
       "      <td>62.859363</td>\n",
       "    </tr>\n",
       "    <tr>\n",
       "      <th>2014-09-16</th>\n",
       "      <td>1464.0</td>\n",
       "      <td>514.0</td>\n",
       "      <td>35.109290</td>\n",
       "      <td>950.0</td>\n",
       "      <td>64.890710</td>\n",
       "    </tr>\n",
       "  </tbody>\n",
       "</table>\n",
       "</div>"
      ],
      "text/plain": [
       "            No. of confirmed cases  No. of confirmed deaths      PIvsD  \\\n",
       "Date                                                                     \n",
       "2014-08-29                   935.0                    380.0  40.641711   \n",
       "2014-09-05                  1146.0                    443.0  38.656195   \n",
       "2014-09-08                  1234.0                    461.0  37.358185   \n",
       "2014-09-12                  1287.0                    478.0  37.140637   \n",
       "2014-09-16                  1464.0                    514.0  35.109290   \n",
       "\n",
       "            recuperados         PR  \n",
       "Date                                \n",
       "2014-08-29        555.0  59.358289  \n",
       "2014-09-05        703.0  61.343805  \n",
       "2014-09-08        773.0  62.641815  \n",
       "2014-09-12        809.0  62.859363  \n",
       "2014-09-16        950.0  64.890710  "
      ]
     },
     "execution_count": 37,
     "metadata": {},
     "output_type": "execute_result"
    }
   ],
   "source": [
    "SL.head()"
   ]
  },
  {
   "cell_type": "code",
   "execution_count": 38,
   "id": "88535d6a",
   "metadata": {},
   "outputs": [
    {
     "data": {
      "text/plain": [
       "(38.23039544031327, 61.76960455968675)"
      ]
     },
     "execution_count": 38,
     "metadata": {},
     "output_type": "execute_result"
    }
   ],
   "source": [
    "PIvsD_prom=SL['PIvsD'].mean()\n",
    "PR_prom=SL['PR'].mean()"
   ]
  },
  {
   "cell_type": "code",
   "execution_count": 40,
   "id": "7704e505",
   "metadata": {},
   "outputs": [
    {
     "data": {
      "image/png": "[encoded data removed]",
      "text/plain": [
       "<Figure size 432x288 with 1 Axes>"
      ]
     },
     "metadata": {},
     "output_type": "display_data"
    }
   ],
   "source": [
    "porcentajes=[PIvsD_prom,PR_prom]\n",
    "etiquetas=['PIvsD','PR']\n",
    "colores=[\"#AAF683\",\"#FFD97D\"]\n",
    "plt.pie(porcentajes,labels=etiquetas,autopct=\"%0.1f %%\",colors=colores)\n",
    "plt.axis(\"equal\")\n",
    "plt.show()"
   ]
  },
  {
   "cell_type": "code",
   "execution_count": null,
   "id": "aae5d2e4",
   "metadata": {},
   "outputs": [],
   "source": []
  }
 ],
 "metadata": {
  "kernelspec": {
   "display_name": "Python 3 (ipykernel)",
   "language": "python",
   "name": "python3"
  },
  "language_info": {
   "codemirror_mode": {
    "name": "ipython",
    "version": 3
   },
   "file_extension": ".py",
   "mimetype": "text/x-python",
   "name": "python",
   "nbconvert_exporter": "python",
   "pygments_lexer": "ipython3",
   "version": "3.9.12"
  }
 },
 "nbformat": 4,
 "nbformat_minor": 5
}
